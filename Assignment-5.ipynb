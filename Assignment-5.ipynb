{
 "cells": [
  {
   "cell_type": "code",
   "execution_count": 1,
   "id": "e7afde45",
   "metadata": {},
   "outputs": [
    {
     "data": {
      "text/plain": [
       "35"
      ]
     },
     "execution_count": 1,
     "metadata": {},
     "output_type": "execute_result"
    }
   ],
   "source": [
    "#challenge-1\n",
    "\n",
    "class Point:\n",
    "    def __init__(self,x,y,z):\n",
    "        self.x = x\n",
    "        self.y = y\n",
    "        self.z = z\n",
    "    def sqSum(self):\n",
    "        return self.x**2 + self.y**2 + self.z**2\n",
    "\n",
    "\n",
    "\n",
    "obj = Point(1,3,5)\n",
    "obj.sqSum()"
   ]
  },
  {
   "cell_type": "code",
   "execution_count": 2,
   "id": "927f5c3e",
   "metadata": {},
   "outputs": [
    {
     "name": "stdout",
     "output_type": "stream",
     "text": [
      "104\n",
      "84\n",
      "940\n",
      "9.4\n"
     ]
    }
   ],
   "source": [
    "#challenge-2\n",
    "\n",
    "class Calculator:\n",
    "    def __init__(self,num1,num2):\n",
    "        self.num1 = num1\n",
    "        self.num2 = num2\n",
    "        \n",
    "    def add(self):\n",
    "        print(self.num1 + self.num2)\n",
    "        \n",
    "    def subtract(self):\n",
    "        print(self.num2 - self.num1)\n",
    "        \n",
    "    def multiply(self):\n",
    "        print(self.num1 * self.num2)\n",
    "        \n",
    "    def divide(self):\n",
    "        print(self.num2 / self.num1)\n",
    "\n",
    "obj = Calculator(10, 94)\n",
    "obj.add()\n",
    "obj.subtract()\n",
    "obj.multiply()\n",
    "obj.divide()"
   ]
  },
  {
   "cell_type": "code",
   "execution_count": 3,
   "id": "16f1971b",
   "metadata": {},
   "outputs": [
    {
     "name": "stdout",
     "output_type": "stream",
     "text": [
      "name :  Viki Thakare\n",
      "rollNumber :  21\n"
     ]
    }
   ],
   "source": [
    "#challenge-3\n",
    "\n",
    "class Student:\n",
    "    \n",
    "    def setName(self,name):\n",
    "        self.__name = name\n",
    "    def getName(self):\n",
    "        return self.__name\n",
    "    def setRollNumber(self,rollNumber):\n",
    "        self.__rollNumber = rollNumber\n",
    "    def getRollNumber(self):\n",
    "        return self.__rollNumber\n",
    "    \n",
    "obj = Student()\n",
    "obj.setName(\"Viki Thakare\")\n",
    "name = obj.getName()\n",
    "print(\"name : \",name)\n",
    "obj.setRollNumber(21)\n",
    "rollNumber = obj.getRollNumber()\n",
    "print(\"rollNumber : \",rollNumber)"
   ]
  },
  {
   "cell_type": "code",
   "execution_count": 4,
   "id": "bc7befdb",
   "metadata": {},
   "outputs": [
    {
     "name": "stdout",
     "output_type": "stream",
     "text": [
      "Ashish 5000 5\n"
     ]
    }
   ],
   "source": [
    "#challenge-4\n",
    "\n",
    "class Account:\n",
    "    def __init__(self,title=None,balance=0):\n",
    "        self.title = title\n",
    "        self.Balance = balance\n",
    "class SavingsAccount(Account):\n",
    "    def __init__(self,title=None,balance=0,interestRate=0):\n",
    "        super().__init__(title,balance)\n",
    "        self.interestRate = interestRate\n",
    "\n",
    "obj = SavingsAccount(\"Ashish\",5000,5)\n",
    "print(obj.title,obj.Balance,obj.interestRate)"
   ]
  },
  {
   "cell_type": "code",
   "execution_count": 5,
   "id": "9d9da4cb",
   "metadata": {},
   "outputs": [
    {
     "name": "stdout",
     "output_type": "stream",
     "text": [
      "Balance: 2000\n",
      "New Balance after deposit: 2500\n",
      "New Balance after withdrawal: 2000\n",
      "interestAmount :  100.0\n"
     ]
    }
   ],
   "source": [
    "#challenge-5\n",
    "\n",
    "class Account:\n",
    "    def __init__(self, title=None, balance=0):\n",
    "        self.title = title\n",
    "        self.balance = balance\n",
    "\n",
    "    def getBalance(self):\n",
    "        return self.balance\n",
    "\n",
    "    def deposit(self, amount):\n",
    "        if amount > 0:\n",
    "            self.balance += amount\n",
    "    def withdrawal(self, amount):\n",
    "        if amount > 0 and amount <= self.balance:\n",
    "            self.balance -= amount\n",
    "            \n",
    "class SavingsAccount(Account):\n",
    "    def __init__(self, title=None, balance=0, interestRate=0):\n",
    "        super().__init__(title, balance)\n",
    "        self.interestRate = interestRate\n",
    "    def interestAmount(self):\n",
    "        return (self.balance * self.interestRate) / 100\n",
    "        \n",
    "\n",
    "        \n",
    "\n",
    "obj = SavingsAccount(\"Ashish\", 2000, 5)\n",
    "\n",
    "print(\"Balance:\", obj.getBalance())\n",
    "\n",
    "obj.deposit(500)\n",
    "print(\"New Balance after deposit:\", obj.getBalance())\n",
    "\n",
    "obj.withdrawal(500)\n",
    "print(\"New Balance after withdrawal:\", obj.getBalance())\n",
    "\n",
    "interestAmount = obj.interestAmount()\n",
    "print(\"interestAmount : \",interestAmount)"
   ]
  },
  {
   "cell_type": "code",
   "execution_count": null,
   "id": "3f6e6cc6",
   "metadata": {},
   "outputs": [],
   "source": []
  }
 ],
 "metadata": {
  "kernelspec": {
   "display_name": "Python 3 (ipykernel)",
   "language": "python",
   "name": "python3"
  },
  "language_info": {
   "codemirror_mode": {
    "name": "ipython",
    "version": 3
   },
   "file_extension": ".py",
   "mimetype": "text/x-python",
   "name": "python",
   "nbconvert_exporter": "python",
   "pygments_lexer": "ipython3",
   "version": "3.10.9"
  }
 },
 "nbformat": 4,
 "nbformat_minor": 5
}
